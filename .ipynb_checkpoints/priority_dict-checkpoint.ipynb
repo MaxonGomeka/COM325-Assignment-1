{
 "cells": [
  {
   "cell_type": "code",
   "execution_count": 3,
   "metadata": {},
   "outputs": [],
   "source": [
    "from heapq import heapify, heappush, heappop\n",
    "\n",
    "class priority_dict(dict):\n",
    "\n",
    "    def __init__(self, *args, **kwargs):\n",
    "        super(priority_dict, self).__init__(*args, **kwargs)\n",
    "        self._rebuild_heap()\n",
    "\n",
    "    def _rebuild_heap(self):\n",
    "        self._heap = [(v, k) for k, v in self.items()]\n",
    "        heapify(self._heap)\n",
    "\n",
    "    def smallest(self):\n",
    "        heap = self._heap\n",
    "        v, k = heap[0]\n",
    "        while k not in self or self[k] != v:\n",
    "            heappop(heap)\n",
    "            v, k = heap[0]\n",
    "        return k\n",
    "\n",
    "    def pop_smallest(self):\n",
    "        heap = self._heap\n",
    "        v, k = heappop(heap)\n",
    "        while k not in self or self[k] != v:\n",
    "            v, k = heappop(heap)\n",
    "        del self[k]\n",
    "        return k\n",
    "\n",
    "    def __setitem__(self, key, val):\n",
    "        super(priority_dict, self).__setitem__(key, val)\n",
    "        \n",
    "        if len(self._heap) < 2 * len(self):\n",
    "            heappush(self._heap, (val, key))\n",
    "        else:\n",
    "            self._rebuild_heap()\n",
    "\n",
    "    def setdefault(self, key, val):\n",
    "        if key not in self:\n",
    "            self[key] = val\n",
    "            return val\n",
    "        return self[key]\n",
    "\n",
    "    def update(self, *args, **kwargs):\n",
    "        super(priority_dict, self).update(*args, **kwargs)\n",
    "        self._rebuild_heap()\n",
    "\n",
    "    def sorted_iter(self):\n",
    "        while self:\n",
    "            yield self.pop_smallest()"
   ]
  },
  {
   "cell_type": "code",
   "execution_count": null,
   "metadata": {},
   "outputs": [],
   "source": []
  },
  {
   "cell_type": "code",
   "execution_count": null,
   "metadata": {},
   "outputs": [],
   "source": []
  }
 ],
 "metadata": {
  "kernelspec": {
   "display_name": "Python 3",
   "language": "python",
   "name": "python3"
  },
  "language_info": {
   "codemirror_mode": {
    "name": "ipython",
    "version": 3
   },
   "file_extension": ".py",
   "mimetype": "text/x-python",
   "name": "python",
   "nbconvert_exporter": "python",
   "pygments_lexer": "ipython3",
   "version": "3.8.5"
  }
 },
 "nbformat": 4,
 "nbformat_minor": 4
}
