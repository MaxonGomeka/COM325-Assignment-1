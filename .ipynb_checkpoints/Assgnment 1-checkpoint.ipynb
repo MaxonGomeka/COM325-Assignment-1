{
 "cells": [
  {
   "cell_type": "code",
   "execution_count": 1,
   "metadata": {},
   "outputs": [],
   "source": [
    "\"\"\".........Undirected graph without weights.......\"\"\"\n",
    "\n",
    "graph ={ 'S': set(['A', 'C']),\n",
    "         'A': set(['S', 'C','B']),\n",
    "         'C': set(['S', 'A','D']),\n",
    "         'B': set(['A','D','E']),\n",
    "         'D': set(['C', 'B','E']),\n",
    "         'E': set(['B', 'D'])}"
   ]
  },
  {
   "cell_type": "code",
   "execution_count": 2,
   "metadata": {},
   "outputs": [],
   "source": [
    "class Stack:\n",
    "    \"\"\"(LIFO) queuing policy implemented using python list.\"\"\"\n",
    "\n",
    "    def __init__(self):\n",
    "        self.list = []\n",
    "\n",
    "    def push(self, item):\n",
    "        \"\"\"Push 'item' onto the stack.\"\"\"\n",
    "        self.list.append(item)\n",
    "\n",
    "    def pop(self):\n",
    "        \"\"\"Pop the most recently pushed item from the stack.\"\"\"\n",
    "        return self.list.pop()\n",
    "\n",
    "    def top(self):\n",
    "        \"\"\"Return the last element.\"\"\"\n",
    "        return self.list[-1]\n",
    "\n",
    "    def is_empty(self):\n",
    "        \"\"\"Returns true if the stack is empty.\"\"\"\n",
    "        return len(self.list) == 0"
   ]
  },
  {
   "cell_type": "code",
   "execution_count": 3,
   "metadata": {},
   "outputs": [
    {
     "data": {
      "text/plain": [
       "{'A', 'B', 'C', 'D', 'E', 'S'}"
      ]
     },
     "execution_count": 3,
     "metadata": {},
     "output_type": "execute_result"
    }
   ],
   "source": [
    "\"\"\"Maintain a list of visited nodes to ensure that a node is not visited twice.\"\"\"\n",
    "\n",
    "def dfs(graph, start):\n",
    "    visited, stack = set(), [start]\n",
    "    while stack:\n",
    "        vertex = stack.pop()\n",
    "        if vertex not in visited:\n",
    "            visited.add(vertex)\n",
    "            stack.extend(graph[vertex] - visited)\n",
    "    return visited\n",
    "\n",
    "\"\"\"Prints out the output\"\"\"  \n",
    "dfs(graph, 'S') # {'E', 'D', 'F', 'A', 'C', 'B'}"
   ]
  },
  {
   "cell_type": "code",
   "execution_count": 4,
   "metadata": {},
   "outputs": [
    {
     "data": {
      "text/plain": [
       "[['S', 'A', 'C', 'D', 'E'],\n",
       " ['S', 'A', 'C', 'D', 'B', 'E'],\n",
       " ['S', 'A', 'B', 'E'],\n",
       " ['S', 'A', 'B', 'D', 'E'],\n",
       " ['S', 'C', 'A', 'B', 'E'],\n",
       " ['S', 'C', 'A', 'B', 'D', 'E'],\n",
       " ['S', 'C', 'D', 'E'],\n",
       " ['S', 'C', 'D', 'B', 'E']]"
      ]
     },
     "execution_count": 4,
     "metadata": {},
     "output_type": "execute_result"
    }
   ],
   "source": [
    "\"\"\"\"If there are a number of routes available between two points, the algorithm provide them all\"\"\"\n",
    "\n",
    "def dfs(graph, start,goal):\n",
    "    stack = [(start, [start])]\n",
    "    while stack:\n",
    "        (vertex,path) = stack.pop()\n",
    "        for next in graph[vertex] - set(path):\n",
    "            if next == goal:\n",
    "                 yield path + [next]\n",
    "            else:\n",
    "                 stack.append((next,path + [next]))\n",
    "                    \n",
    "\"\"\"Prints out the output\"\"\"         \n",
    "list(dfs(graph, 'S','E'))"
   ]
  },
  {
   "cell_type": "code",
   "execution_count": 5,
   "metadata": {},
   "outputs": [
    {
     "data": {
      "text/plain": [
       "{'A': 0, 'B': 1, 'D': 2, 'E': 3}"
      ]
     },
     "execution_count": 5,
     "metadata": {},
     "output_type": "execute_result"
    }
   ],
   "source": [
    "\"\"\".....Directed graph and weighted graph using Dijkstra algorithm to find the shortest path\"\"\"\n",
    "\n",
    "import heapq\n",
    "\n",
    "graph = {\n",
    "    'S': {'A': 1, 'C': 2},\n",
    "    'A': {'B': 1},\n",
    "    'C': {'A': 4, 'D': 3},\n",
    "    'B': {'E': 2, 'D': 1},\n",
    "    'D': {'E': 1},\n",
    "    'E': {},\n",
    "   \n",
    "}\n",
    "\n",
    "\n",
    "\n",
    "def dijkstra(graph, source):\n",
    "    priority_queue = []\n",
    "    \"\"\"      The cost is 0, because the distance between source to itself is 0    \"\"\"\n",
    "    heapq.heappush(priority_queue, (0, source))\n",
    "    visited = {}\n",
    "    \"\"\"         basically the same as a normal BFS  \"\"\"\n",
    "    while priority_queue:\n",
    "        \"\"\"          dequeue from the priority queue  \"\"\" \n",
    "        \"\"\"          dequeue the minimum cost path   \"\"\" \n",
    "        (current_distance, current) = heapq.heappop(priority_queue)\n",
    "\n",
    "        \"\"\"          When we extract min from the priority queue\n",
    "                     we know that we have found the minimum cost path to this node\n",
    "                     so we consider it visited   \"\"\" \n",
    "        visited[current] = current_distance\n",
    "\n",
    "        if current not in graph: continue\n",
    "        for neighbour, distance in graph[current].items():\n",
    "            \n",
    "            \"\"\"    We only continue to explore neighbours that have been visited\n",
    "                   (same as a normal BFS)  \"\"\" \n",
    "            \n",
    "            if neighbour in visited: continue\n",
    "            # If we haven't found the min cost path to this node, we push the new distance back onto the queue\n",
    "            # because this is a min queue, if the new distance is the new min cost path, it will be at the front of the queue\n",
    "            new_distance = current_distance + distance\n",
    "            heapq.heappush(priority_queue, (new_distance, neighbour))\n",
    "\n",
    "    return visited\n",
    "\n",
    "dijkstra(graph, 'A')"
   ]
  },
  {
   "cell_type": "code",
   "execution_count": null,
   "metadata": {},
   "outputs": [],
   "source": []
  }
 ],
 "metadata": {
  "kernelspec": {
   "display_name": "Python 3",
   "language": "python",
   "name": "python3"
  },
  "language_info": {
   "codemirror_mode": {
    "name": "ipython",
    "version": 3
   },
   "file_extension": ".py",
   "mimetype": "text/x-python",
   "name": "python",
   "nbconvert_exporter": "python",
   "pygments_lexer": "ipython3",
   "version": "3.8.5"
  }
 },
 "nbformat": 4,
 "nbformat_minor": 4
}
