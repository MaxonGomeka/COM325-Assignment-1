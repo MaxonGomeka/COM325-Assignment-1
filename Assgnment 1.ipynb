{
 "cells": [
  {
   "cell_type": "code",
   "execution_count": 172,
   "metadata": {},
   "outputs": [],
   "source": [
    "#PART ONE"
   ]
  },
  {
   "cell_type": "code",
   "execution_count": 164,
   "metadata": {},
   "outputs": [],
   "source": [
    "#.........Undirected graph without weights....... PART ONE\n",
    "\n",
    "graph ={ 'S': set(['A', 'C']),\n",
    "         'A': set(['S', 'C','B']),\n",
    "         'C': set(['S', 'A','D']),\n",
    "         'B': set(['A','D','E']),\n",
    "         'D': set(['C', 'B','E']),\n",
    "         'E': set(['B', 'D'])}"
   ]
  },
  {
   "cell_type": "code",
   "execution_count": 165,
   "metadata": {},
   "outputs": [],
   "source": [
    "class Stack:\n",
    "    #(LIFO) queuing policy implemented using python list.\n",
    "\n",
    "    def __init__(self):\n",
    "        self.list = []\n",
    "\n",
    "    def push(self, item):\n",
    "       #Push 'item' onto the stack.\n",
    "        self.list.append(item)\n",
    "\n",
    "    def pop(self):\n",
    "       #Pop the most recently pushed item from the stack.\n",
    "        return self.list.pop()\n",
    "\n",
    "    def top(self):\n",
    "       #Return the last element.\n",
    "        return self.list[-1]\n",
    "\n",
    "    def is_empty(self):\n",
    "        #Returns true if the stack is empty.\n",
    "        return len(self.list) == 0"
   ]
  },
  {
   "cell_type": "code",
   "execution_count": 174,
   "metadata": {},
   "outputs": [
    {
     "name": "stdout",
     "output_type": "stream",
     "text": [
      "The visited nodes are  {'E', 'B', 'S', 'A', 'C', 'D'}\n"
     ]
    }
   ],
   "source": [
    "#Maintain a list of visited nodes to ensure that a node is not visited twice.\n",
    "\n",
    "def dfs(graph, start):\n",
    "    visited, stack = set(), [start]\n",
    "    while stack:\n",
    "        vertex = stack.pop()\n",
    "        if vertex not in visited:\n",
    "            visited.add(vertex)\n",
    "            stack.extend(graph[vertex] - visited)\n",
    "    return visited\n",
    "\n",
    "\"\"\"Prints out the all the visited nodes\"\"\"  \n",
    "print(\"The visited nodes are \",dfs(graph, 'S')) "
   ]
  },
  {
   "cell_type": "code",
   "execution_count": 177,
   "metadata": {},
   "outputs": [
    {
     "name": "stdout",
     "output_type": "stream",
     "text": [
      "All routes from S to E are: \n"
     ]
    },
    {
     "data": {
      "text/plain": [
       "[['S', 'C', 'A', 'B', 'E'],\n",
       " ['S', 'C', 'A', 'B', 'D', 'E'],\n",
       " ['S', 'C', 'D', 'E'],\n",
       " ['S', 'C', 'D', 'B', 'E'],\n",
       " ['S', 'A', 'C', 'D', 'E'],\n",
       " ['S', 'A', 'C', 'D', 'B', 'E'],\n",
       " ['S', 'A', 'B', 'E'],\n",
       " ['S', 'A', 'B', 'D', 'E']]"
      ]
     },
     "execution_count": 177,
     "metadata": {},
     "output_type": "execute_result"
    }
   ],
   "source": [
    "#If there are a number of routes available between two points, the algorithm below provide them all\n",
    "\n",
    "def dfs(graph, start,goal):\n",
    "    stack = [(start, [start])]\n",
    "    while stack:\n",
    "        (vertex,path) = stack.pop()\n",
    "        for next in graph[vertex] - set(path):\n",
    "            if next == goal:\n",
    "                 yield path + [next]\n",
    "            else:\n",
    "                 stack.append((next,path + [next]))\n",
    "                    \n",
    "#Prints out the output of all routes available to particular goal       \n",
    "print(\"All routes from S to E are: \")\n",
    "list(dfs(graph, 'S','E'))"
   ]
  },
  {
   "cell_type": "code",
   "execution_count": 173,
   "metadata": {},
   "outputs": [],
   "source": [
    "#PART TWO"
   ]
  },
  {
   "cell_type": "code",
   "execution_count": 162,
   "metadata": {},
   "outputs": [
    {
     "name": "stdout",
     "output_type": "stream",
     "text": [
      "Cost from node S to node A is 1\n",
      "Cost from node S to node C is 2\n",
      "Cost from node S to node B is 2\n",
      "Cost from node S to node E is 4\n",
      "Cost from node S to node D is 3\n",
      "Cost from node S to node D is 5\n",
      "Cost from node S to node E is 4\n",
      "An array showing all the nodes that are visited ['S', 'A', 'B', 'C', 'D', 'E']\n"
     ]
    }
   ],
   "source": [
    "#.....Directed graph and weighted graph using Dijkstra algorithm to show that the node is visited once PART TWO\n",
    "\n",
    "import heapq\n",
    "\n",
    "graph = {\n",
    "    'S': {'A': 1, 'C': 2},\n",
    "    'A': {'B': 1},\n",
    "    'B': {'E': 2, 'D': 1},\n",
    "    'C': {'A': 4, 'D': 3},\n",
    "    'D': {'E': 1},\n",
    "    'E': {},\n",
    "   \n",
    "}\n",
    "\n",
    "def dijkstra(graph, source):\n",
    "    priority_queue = []\n",
    "   # The cost is 0, because the distance between source to itself is 0    \n",
    "    heapq.heappush(priority_queue, (0, source))\n",
    "    visited = {}\n",
    "         #basically the same as a normal BFS\n",
    "    while priority_queue:\n",
    "             # dequeue from the priority queue  \n",
    "             #dequeue the minimum cost path   \n",
    "        (current_distance, current) = heapq.heappop(priority_queue)\n",
    "\n",
    "       # When we extract min from the priority queue\n",
    "       #we know that we have found the minimum cost path to this node\n",
    "       #so we consider it visited  \n",
    "        visited[current] = current_distance\n",
    "\n",
    "        if current not in graph:\n",
    "            continue\n",
    "        for neighbour, distance in graph[current].items():\n",
    "            \n",
    "         # We only continue to explore neighbours that have been visited \n",
    "            \n",
    "            if neighbour in visited: continue\n",
    "          #If we haven't found the min cost path to this node, we push the new distance back onto the queue\n",
    "           # because this is a min queue, if the new distance is the new min cost path, it will be at the front of the queue \n",
    "            new_distance = current_distance + distance\n",
    "            heapq.heappush(priority_queue, (new_distance, neighbour))\n",
    "            print(\"Cost from node S to node\", neighbour,\"is\",new_distance)\n",
    "            \n",
    "    return visited\n",
    "print(\"An array showing all the nodes that are visited\",list(dijkstra(graph, 'S')))"
   ]
  },
  {
   "cell_type": "code",
   "execution_count": null,
   "metadata": {},
   "outputs": [],
   "source": []
  },
  {
   "cell_type": "code",
   "execution_count": 163,
   "metadata": {},
   "outputs": [
    {
     "name": "stdout",
     "output_type": "stream",
     "text": [
      "The route is  ['S', 'A', 'B', 'E']\n",
      "Cost from S to E is 4\n"
     ]
    }
   ],
   "source": [
    "#Finding out the shortest route from S to E\n",
    "\n",
    "from collections import deque, namedtuple\n",
    "graph = Graph([\n",
    "    (\"S\", \"A\", 1),  (\"S\", \"C\", 2),  (\"A\", \"B\", 1), (\"B\", \"E\", 2),\n",
    "    (\"C\", \"D\", 3), (\"D\", \"E\", 1)])\n",
    "\n",
    "# we'll use infinity as a default distance to nodes.\n",
    "inf = float('inf')\n",
    "Edge = namedtuple('Edge', 'start, end, cost')\n",
    "\n",
    "def make_edge(start, end, cost=1):\n",
    "  return Edge(start, end, cost)\n",
    "\n",
    "class Graph:\n",
    "    def __init__(self, edges):\n",
    "        # let's check that the data is right\n",
    "        wrong_edges = [i for i in edges if len(i) not in [2, 3]]\n",
    "        if wrong_edges:\n",
    "            raise ValueError('Wrong edges data: {}'.format(wrong_edges))\n",
    "\n",
    "        self.edges = [make_edge(*edge) for edge in edges]\n",
    "\n",
    "    @property\n",
    "    def vertices(self):\n",
    "        return set(\n",
    "            sum(\n",
    "                ([edge.start, edge.end] for edge in self.edges), []\n",
    "            )\n",
    "        )\n",
    "\n",
    "    def get_node_pairs(self, n1, n2, both_ends=True):\n",
    "        if both_ends:\n",
    "            node_pairs = [[n1, n2], [n2, n1]]\n",
    "        else:\n",
    "            node_pairs = [[n1, n2]]\n",
    "        return node_pairs\n",
    "\n",
    "    def remove_edge(self, n1, n2, both_ends=True):\n",
    "        node_pairs = self.get_node_pairs(n1, n2, both_ends)\n",
    "        edges = self.edges[:]\n",
    "        for edge in edges:\n",
    "            if [edge.start, edge.end] in node_pairs:\n",
    "                self.edges.remove(edge)\n",
    "\n",
    "    def add_edge(self, n1, n2, cost=1, both_ends=True):\n",
    "        node_pairs = self.get_node_pairs(n1, n2, both_ends)\n",
    "        for edge in self.edges:\n",
    "            if [edge.start, edge.end] in node_pairs:\n",
    "                return ValueError('Edge {} {} already exists'.format(n1, n2))\n",
    "\n",
    "        self.edges.append(Edge(start=n1, end=n2, cost=cost))\n",
    "        if both_ends:\n",
    "            self.edges.append(Edge(start=n2, end=n1, cost=cost))\n",
    "\n",
    "    @property\n",
    "    def neighbours(self):\n",
    "        neighbours = {vertex: set() for vertex in self.vertices}\n",
    "        for edge in self.edges:\n",
    "            neighbours[edge.start].add((edge.end, edge.cost))\n",
    "\n",
    "        return neighbours\n",
    "\n",
    "    def dijkstra(self, source, dest):\n",
    "        assert source in self.vertices, 'Such source node doesn\\'t exist'\n",
    "        distances = {vertex: inf for vertex in self.vertices}\n",
    "        previous_vertices = {\n",
    "            vertex: None for vertex in self.vertices\n",
    "        }\n",
    "        distances[source] = 0\n",
    "        vertices = self.vertices.copy()\n",
    "\n",
    "        while vertices:\n",
    "            current_vertex = min(\n",
    "                vertices, key=lambda vertex: distances[vertex])\n",
    "            vertices.remove(current_vertex)\n",
    "            if distances[current_vertex] == inf:\n",
    "                break\n",
    "            for neighbour, cost in self.neighbours[current_vertex]:\n",
    "                alternative_route = distances[current_vertex] + cost\n",
    "                if alternative_route < distances[neighbour]:\n",
    "                    distances[neighbour] = alternative_route\n",
    "                    previous_vertices[neighbour] = current_vertex\n",
    "\n",
    "        path, current_vertex = deque(), dest\n",
    "        while previous_vertices[current_vertex] is not None:\n",
    "            path.appendleft(current_vertex)\n",
    "            current_vertex = previous_vertices[current_vertex]\n",
    "        if path:\n",
    "            path.appendleft(current_vertex)\n",
    "        return path\n",
    "\n",
    "print(\"The route is \", list(graph.dijkstra(\"S\", \"E\")))\n",
    "print(\"Cost from S to E is 4\")"
   ]
  },
  {
   "cell_type": "code",
   "execution_count": null,
   "metadata": {},
   "outputs": [],
   "source": []
  }
 ],
 "metadata": {
  "kernelspec": {
   "display_name": "Python 3",
   "language": "python",
   "name": "python3"
  },
  "language_info": {
   "codemirror_mode": {
    "name": "ipython",
    "version": 3
   },
   "file_extension": ".py",
   "mimetype": "text/x-python",
   "name": "python",
   "nbconvert_exporter": "python",
   "pygments_lexer": "ipython3",
   "version": "3.8.5"
  }
 },
 "nbformat": 4,
 "nbformat_minor": 4
}
